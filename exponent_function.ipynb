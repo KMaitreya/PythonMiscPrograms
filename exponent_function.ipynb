{
 "cells": [
  {
   "cell_type": "code",
   "execution_count": 1,
   "id": "2e2e84eb",
   "metadata": {},
   "outputs": [],
   "source": [
    "#exponent function in python"
   ]
  },
  {
   "cell_type": "code",
   "execution_count": 18,
   "id": "fe2788a2",
   "metadata": {},
   "outputs": [
    {
     "name": "stdout",
     "output_type": "stream",
     "text": [
      "Enter base number : 9\n",
      "Enter power :3\n",
      "9 ^ 3 = 729\n"
     ]
    }
   ],
   "source": [
    "#defining the exponent function(for loop)\n",
    "\n",
    "def exponent(base, power):\n",
    "    answer=1\n",
    "    for i in range(1,power+1):\n",
    "        answer=answer*base\n",
    "    return answer\n",
    "\n",
    "base=int(input(\"Enter base number : \"))\n",
    "power=int(input(\"Enter power :\"))\n",
    "answer=exponent(base,power)\n",
    "print(base,\"^\",power,\"=\",answer)"
   ]
  },
  {
   "cell_type": "code",
   "execution_count": 17,
   "id": "b670633c",
   "metadata": {},
   "outputs": [
    {
     "name": "stdout",
     "output_type": "stream",
     "text": [
      "Enter base number : 4\n",
      "Enter power :4\n",
      "4 ^ 4 = 256\n"
     ]
    }
   ],
   "source": [
    "#defining the exponent function(while loop)\n",
    "\n",
    "def exponent(base, power):\n",
    "    answer=1\n",
    "    i=1\n",
    "    while i<=power:\n",
    "        answer=answer*base\n",
    "        i+=1\n",
    "    return answer\n",
    "\n",
    "base=int(input(\"Enter base number : \"))\n",
    "power=int(input(\"Enter power :\"))\n",
    "answer=exponent(base,power)\n",
    "print(base,\"^\",power,\"=\",answer)"
   ]
  }
 ],
 "metadata": {
  "kernelspec": {
   "display_name": "Python 3",
   "language": "python",
   "name": "python3"
  },
  "language_info": {
   "codemirror_mode": {
    "name": "ipython",
    "version": 3
   },
   "file_extension": ".py",
   "mimetype": "text/x-python",
   "name": "python",
   "nbconvert_exporter": "python",
   "pygments_lexer": "ipython3",
   "version": "3.8.8"
  }
 },
 "nbformat": 4,
 "nbformat_minor": 5
}
