{
 "cells": [
  {
   "cell_type": "code",
   "execution_count": 1,
   "id": "c90f679b",
   "metadata": {},
   "outputs": [],
   "source": [
    "#Guessing game\n",
    "#the program will keep asking you to guess words until it matches the secret word"
   ]
  },
  {
   "cell_type": "code",
   "execution_count": 6,
   "id": "87fd4efd",
   "metadata": {},
   "outputs": [
    {
     "name": "stdout",
     "output_type": "stream",
     "text": [
      "Guess a word : java\n",
      "!!WRONG ANSWER, please choose again!!\n",
      "Guess a word :python\n",
      "!!Hurrah!! You have guess the word\n"
     ]
    }
   ],
   "source": [
    "secret_word=\"Python\"\n",
    "word=input(\"Guess a word : \")\n",
    "while word!=secret_word.lower():\n",
    "    print(\"!!WRONG ANSWER, please choose again!!\")\n",
    "    word=input(\"Guess a word :\")\n",
    "print(\"!!Hurrah!! You have guess the word\")"
   ]
  }
 ],
 "metadata": {
  "kernelspec": {
   "display_name": "Python 3",
   "language": "python",
   "name": "python3"
  },
  "language_info": {
   "codemirror_mode": {
    "name": "ipython",
    "version": 3
   },
   "file_extension": ".py",
   "mimetype": "text/x-python",
   "name": "python",
   "nbconvert_exporter": "python",
   "pygments_lexer": "ipython3",
   "version": "3.8.8"
  }
 },
 "nbformat": 4,
 "nbformat_minor": 5
}
