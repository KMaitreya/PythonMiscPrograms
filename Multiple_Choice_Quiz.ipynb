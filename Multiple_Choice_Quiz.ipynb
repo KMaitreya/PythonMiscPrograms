{
 "cells": [
  {
   "cell_type": "code",
   "execution_count": 1,
   "id": "259e1e5b",
   "metadata": {},
   "outputs": [],
   "source": [
    "MCQ program"
   ]
  },
  {
   "cell_type": "code",
   "execution_count": 1,
   "id": "7e0b5a3a",
   "metadata": {},
   "outputs": [],
   "source": [
    "#Creating class for mcq\n",
    "class Questions:\n",
    "    def __init__(self, ques, ans):\n",
    "        self.ques=ques\n",
    "        self.ans=ans"
   ]
  },
  {
   "cell_type": "code",
   "execution_count": 2,
   "id": "c2707a86",
   "metadata": {},
   "outputs": [],
   "source": [
    "#Questions\n",
    "question_prompts=[\n",
    "    \"What colour are apples?\\n(a)Red\\n(b)Blue\\n(c)Orange\\n\",\n",
    "    \"What colour are Blueberries?\\n(a)Red\\n(b)Blue\\n(c)Orange\\n\",\n",
    "    \"What colour are Oranges?\\n(a)Red\\n(b)Blue\\n(c)Orange\\n\"\n",
    "]"
   ]
  },
  {
   "cell_type": "code",
   "execution_count": 5,
   "id": "f9d05fcd",
   "metadata": {},
   "outputs": [],
   "source": [
    "#Object for class Questions\n",
    "questions=[\n",
    "    Questions(question_prompts[0],\"a\"),\n",
    "    Questions(question_prompts[1],\"b\"),\n",
    "    Questions(question_prompts[2],\"c\")\n",
    "]"
   ]
  },
  {
   "cell_type": "code",
   "execution_count": 6,
   "id": "7f6b2002",
   "metadata": {},
   "outputs": [],
   "source": [
    "#Function to test user\n",
    "def test(questions):\n",
    "    score=0\n",
    "    for question in questions:\n",
    "        response=input(question.ques)\n",
    "        if response==question.ans:\n",
    "            score+=1\n",
    "        print(\"\\n\")\n",
    "    print(\"\\nYou got \"+str(score)+\"/\"+str(len(questions))+\" correct in this quiz\")"
   ]
  },
  {
   "cell_type": "code",
   "execution_count": 7,
   "id": "0d769afd",
   "metadata": {},
   "outputs": [
    {
     "name": "stdout",
     "output_type": "stream",
     "text": [
      "What colour are apples?\n",
      "(a)Red\n",
      "(b)Blue\n",
      "(c)Orange\n",
      "a\n",
      "\n",
      "\n",
      "What colour are Blueberries?\n",
      "(a)Red\n",
      "(b)Blue\n",
      "(c)Orange\n",
      "b\n",
      "\n",
      "\n",
      "What colour are Oranges?\n",
      "(a)Red\n",
      "(b)Blue\n",
      "(c)Orange\n",
      "c\n",
      "\n",
      "\n",
      "\n",
      "You got 3/3 correct in this quiz\n"
     ]
    }
   ],
   "source": [
    "test(questions)"
   ]
  }
 ],
 "metadata": {
  "kernelspec": {
   "display_name": "Python 3",
   "language": "python",
   "name": "python3"
  },
  "language_info": {
   "codemirror_mode": {
    "name": "ipython",
    "version": 3
   },
   "file_extension": ".py",
   "mimetype": "text/x-python",
   "name": "python",
   "nbconvert_exporter": "python",
   "pygments_lexer": "ipython3",
   "version": "3.8.8"
  }
 },
 "nbformat": 4,
 "nbformat_minor": 5
}
