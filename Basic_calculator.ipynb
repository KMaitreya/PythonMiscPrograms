{
 "cells": [
  {
   "cell_type": "code",
   "execution_count": 2,
   "id": "2cc1d9c8",
   "metadata": {},
   "outputs": [
    {
     "name": "stdout",
     "output_type": "stream",
     "text": [
      "Enter the first number : 15\n",
      "Enter the second number : 3\n",
      "Enter the operator(+,-,/,*) : *\n"
     ]
    }
   ],
   "source": [
    "#taking input from user\n",
    "num1=float(input(\"Enter the first number : \"))\n",
    "num2=float(input(\"Enter the second number : \"))\n",
    "op=input(\"Enter the operator(+,-,/,*) : \")"
   ]
  },
  {
   "cell_type": "code",
   "execution_count": 3,
   "id": "2c53fbdf",
   "metadata": {},
   "outputs": [],
   "source": [
    "#performing the operations as per user input\n",
    "if op==\"+\":\n",
    "    ans=num1+num2\n",
    "    \n",
    "elif op==\"-\":\n",
    "    ans=num1-num2\n",
    "    \n",
    "elif op==\"/\":\n",
    "    ans=num1/num2\n",
    "    \n",
    "elif op==\"*\":\n",
    "    ans=num1*num2\n",
    "    \n",
    "else:\n",
    "    print(\"Invalid operator\")\n",
    "    exit()"
   ]
  },
  {
   "cell_type": "code",
   "execution_count": 4,
   "id": "a68831e3",
   "metadata": {},
   "outputs": [
    {
     "name": "stdout",
     "output_type": "stream",
     "text": [
      "15.0 * 3.0 = 45.0\n"
     ]
    }
   ],
   "source": [
    "#printing the output\n",
    "print(num1,op,num2,\"=\",ans)"
   ]
  }
 ],
 "metadata": {
  "kernelspec": {
   "display_name": "Python 3",
   "language": "python",
   "name": "python3"
  },
  "language_info": {
   "codemirror_mode": {
    "name": "ipython",
    "version": 3
   },
   "file_extension": ".py",
   "mimetype": "text/x-python",
   "name": "python",
   "nbconvert_exporter": "python",
   "pygments_lexer": "ipython3",
   "version": "3.8.8"
  }
 },
 "nbformat": 4,
 "nbformat_minor": 5
}
