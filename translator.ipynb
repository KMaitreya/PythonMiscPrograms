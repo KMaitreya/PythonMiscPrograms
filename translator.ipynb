{
 "cells": [
  {
   "cell_type": "code",
   "execution_count": 1,
   "id": "0286d767",
   "metadata": {},
   "outputs": [],
   "source": [
    "#simple translator program\n",
    "#we will be translating english to our draft language\n",
    "#in this program we will be replacing vowels with a given alphabet"
   ]
  },
  {
   "cell_type": "code",
   "execution_count": 2,
   "id": "b1df0b31",
   "metadata": {},
   "outputs": [],
   "source": [
    "#let's call this language cool language\n",
    "#our draft alphabet will be c,i.e. c will replace all vowels"
   ]
  },
  {
   "cell_type": "code",
   "execution_count": 7,
   "id": "de448be4",
   "metadata": {},
   "outputs": [],
   "source": [
    "#this function will translate english to our draft language\n",
    "def translate(phrase):\n",
    "    translation=\"\"\n",
    "    for letter in phrase:\n",
    "        if letter in \"AEIOU\":\n",
    "            translation=translation+\"C\"   \n",
    "        elif letter in \"aeiou\":\n",
    "            translation=translation+\"c\"\n",
    "        else:\n",
    "            translation=translation+letter   \n",
    "    return translation"
   ]
  },
  {
   "cell_type": "code",
   "execution_count": 8,
   "id": "c0922fb8",
   "metadata": {},
   "outputs": [
    {
     "name": "stdout",
     "output_type": "stream",
     "text": [
      "Enter the phrase that you want to be translated : On the meadows\n",
      "The translated phrase is : Cn thc mccdcws\n"
     ]
    }
   ],
   "source": [
    "#main body of the program where we will accept the phrase to be translated from the user\n",
    "phrase=input(\"Enter the phrase that you want to be translated : \")\n",
    "translation=translate(phrase)\n",
    "print(\"The translated phrase is : \"+translation)"
   ]
  }
 ],
 "metadata": {
  "kernelspec": {
   "display_name": "Python 3",
   "language": "python",
   "name": "python3"
  },
  "language_info": {
   "codemirror_mode": {
    "name": "ipython",
    "version": 3
   },
   "file_extension": ".py",
   "mimetype": "text/x-python",
   "name": "python",
   "nbconvert_exporter": "python",
   "pygments_lexer": "ipython3",
   "version": "3.8.8"
  }
 },
 "nbformat": 4,
 "nbformat_minor": 5
}
